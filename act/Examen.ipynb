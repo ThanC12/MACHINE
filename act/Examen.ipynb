{
 "cells": [
  {
   "attachments": {},
   "cell_type": "markdown",
   "id": "43115e44-f75d-465a-ad62-9b2be737a6e6",
   "metadata": {},
   "source": [
    "# Examen "
   ]
  },
  {
   "cell_type": "markdown",
   "id": "ea3fa0b8",
   "metadata": {},
   "source": [
    "<img src=\"img/Recurso-26.png\" width=\"200\"/>\n",
    "\n",
    "# Introducción \n",
    "\n",
    "Machine E-learning es una rama de la IA<br>\n",
    "<img src=\"img/python_logo.png\"><br>\n",
    "\n",
    "**Nombre:** Joanthan Cordero<br>\n",
    "*Fecha:* 10/07/2024<br>\n",
    "<a href=\"https://github.com/ThanC12/MachineLearning/tree/main/machinepriodo25-25-main\">Enlace a GitHub</a><br>\n",
    "## Lenguajes de Programación \n",
    "* Python\n",
    "* Java\n",
    "\n",
    "*Elvis Pachacama*"
   ]
  },
  {
   "cell_type": "code",
   "execution_count": 44,
   "id": "eb8ba270-b03c-49f8-b092-8de37baa3bfe",
   "metadata": {},
   "outputs": [],
   "source": [
    "# Your imports HERE !!!!\n",
    "import numpy as np\n",
    "import pandas as pd"
   ]
  },
  {
   "attachments": {},
   "cell_type": "markdown",
   "id": "2206adbd-c8e0-4665-a20b-bb6a1503d388",
   "metadata": {
    "tags": []
   },
   "source": [
    "## 01 - 1 pt\n",
    "- Dado un array de elementos, escribir una función, que reciba dicho array como parámetro de entrada y devuelva el elemento repetido. Usando plain Python, sin ninguna librería."
   ]
  },
  {
   "cell_type": "code",
   "execution_count": 25,
   "id": "748595ea-d6b6-4f35-a824-ea3631d7e15a",
   "metadata": {},
   "outputs": [
    {
     "name": "stdout",
     "output_type": "stream",
     "text": [
      "Elemento repetido: 3\n"
     ]
    }
   ],
   "source": [
    "array_src = [4, 8, 0, 3, 6, 2, 1, 5, 3, 9, 7]\n",
    "expected_rep_element = 3\n",
    "rep_element = repeated_element(array_src) # This calls your function repeated_element\n",
    "assert(expected_rep_element == rep_element) # This will fail if the element is not found correctly\n",
    "print(\"Elemento repetido:\", rep_element)"
   ]
  },
  {
   "cell_type": "code",
   "execution_count": 22,
   "id": "ad80eadc-f385-45f3-9235-a37d9f8006c5",
   "metadata": {},
   "outputs": [],
   "source": [
    "# Your solution HERE !!!!\n",
    "def repeated_element(array):\n",
    "    vistos = set()\n",
    "    for elemento in array:\n",
    "        if elemento in vistos:\n",
    "            return elemento\n",
    "        vistos.add(elemento)\n",
    "    return None  \n"
   ]
  },
  {
   "attachments": {},
   "cell_type": "markdown",
   "id": "5161decf-e061-44a9-a413-8d3921a10058",
   "metadata": {
    "tags": []
   },
   "source": [
    "## 02 - 1pt\n",
    "- Genera una matriz con valores aleatorios de 0 a 100 de dimensiones 16x16\n",
    "- Calcula los siguentes estadísticos en la matriz anterior, por fila (el resultado de cada uno debe ser un array de dimensiones 1x16)\n",
    "  - Suma de los elementos de cada fila\n",
    "  - Media de los elementos de cada fila\n",
    "  - Valores mínimos de cada fila\n",
    "  - Valores máximos de cada fila"
   ]
  },
  {
   "cell_type": "code",
   "execution_count": 27,
   "id": "2e7bfe3c-253f-4287-8d85-fb7e5163e6c0",
   "metadata": {},
   "outputs": [
    {
     "name": "stdout",
     "output_type": "stream",
     "text": [
      "Matriz 16x16 generada:\n",
      " [[ 78  32  19   5  60  93  15  48  55  65  89  35  82  60  89  46]\n",
      " [ 47  51  32  61  13  51  74  41  27  66  96  79  82  94  67  29]\n",
      " [ 11  22  24  36  69  12  45  85  84  11   3  40  89  97  13  98]\n",
      " [ 85  34  62  53  14  94  44  68  73  55  30  75  95  35  33  49]\n",
      " [ 36  45  26  31  35  90  30   9  99   4  20   2   4  75  62  34]\n",
      " [ 61  94  35  70  34  54  26  89  53  60  52  50  69  79  67  14]\n",
      " [ 17  24  66  75  64  24  75  28  39  74  68  35  47  63   7   2]\n",
      " [ 19  68  13  94  21  24  37  44  51  94  51  36  89  21  98  80]\n",
      " [ 76  16  86  36 100  99  34  92  29  48  33  98  68 100   3  60]\n",
      " [ 19  52 100  37  72  83  16  34  86  52  97  49  51  22  38  47]\n",
      " [ 47  73 100  75  48  43  91  84  91  28   7  94  63  17   2  18]\n",
      " [ 60  21  98  84  14  44   0  80  23  20  57  40  65  89  26   6]\n",
      " [ 13  14  59  48  19  66   1  66   2  90  42  80  37  24  85  15]\n",
      " [ 61  45  35  26  23  90   8  96  10  86  63  12  75  68  97  32]\n",
      " [ 88  76  22  23  27  37  99  10  80  68  53  40  42  91  84  34]\n",
      " [ 12  98  76  78  90  38  25  99  34  17  79  76  67  84  14  17]]\n",
      "\n",
      "Suma por fila (1x16):\n",
      " [871 910 739 899 602 907 708 840 978 855 881 727 661 827 874 904]\n",
      "\n",
      "Media por fila (1x16):\n",
      " [54.4375 56.875  46.1875 56.1875 37.625  56.6875 44.25   52.5    61.125\n",
      " 53.4375 55.0625 45.4375 41.3125 51.6875 54.625  56.5   ]\n",
      "\n",
      "Mínimo por fila (1x16):\n",
      " [ 5 13  3 14  2 14  2 13  3 16  2  0  1  8 10 12]\n",
      "\n",
      "Máximo por fila (1x16):\n",
      " [ 93  96  98  95  99  94  75  98 100 100 100  98  90  97  99  99]\n"
     ]
    }
   ],
   "source": [
    "# Your solution HERE !!!!\n",
    "\n",
    "matriz = np.random.randint(0, 101, size=(16, 16))\n",
    "print(\"Matriz 16x16 generada:\\n\", matriz)\n",
    "\n",
    "\n",
    "suma_filas = np.sum(matriz, axis=1)\n",
    "media_filas = np.mean(matriz, axis=1)\n",
    "minimos_filas = np.min(matriz, axis=1)\n",
    "maximos_filas = np.max(matriz, axis=1)\n",
    "\n",
    "\n",
    "print(\"\\nSuma por fila (1x16):\\n\", suma_filas)\n",
    "print(\"\\nMedia por fila (1x16):\\n\", media_filas)\n",
    "print(\"\\nMínimo por fila (1x16):\\n\", minimos_filas)\n",
    "print(\"\\nMáximo por fila (1x16):\\n\", maximos_filas)\n"
   ]
  },
  {
   "attachments": {},
   "cell_type": "markdown",
   "id": "9986c32f-299d-4ce7-809e-db01ee851764",
   "metadata": {
    "tags": []
   },
   "source": [
    "## 03 - 1pt\n",
    "\n",
    "- Generar un dataframe de 3x4 dimensiones con valores númericos aleatorios [0,10]\n",
    "- Darle un índice semántico alfanumérico\n",
    "- Aplicarle una función lambda que obtenga la diferencia entre el máximo y mínimo de cada fila"
   ]
  },
  {
   "cell_type": "code",
   "execution_count": 28,
   "id": "18ff9dbf-9ba4-4513-8a73-d0328b689dc9",
   "metadata": {},
   "outputs": [
    {
     "data": {
      "text/html": [
       "<div>\n",
       "<style scoped>\n",
       "    .dataframe tbody tr th:only-of-type {\n",
       "        vertical-align: middle;\n",
       "    }\n",
       "\n",
       "    .dataframe tbody tr th {\n",
       "        vertical-align: top;\n",
       "    }\n",
       "\n",
       "    .dataframe thead th {\n",
       "        text-align: right;\n",
       "    }\n",
       "</style>\n",
       "<table border=\"1\" class=\"dataframe\">\n",
       "  <thead>\n",
       "    <tr style=\"text-align: right;\">\n",
       "      <th></th>\n",
       "      <th>A</th>\n",
       "      <th>B</th>\n",
       "      <th>C</th>\n",
       "      <th>D</th>\n",
       "    </tr>\n",
       "  </thead>\n",
       "  <tbody>\n",
       "    <tr>\n",
       "      <th>fila1</th>\n",
       "      <td>7</td>\n",
       "      <td>4</td>\n",
       "      <td>7</td>\n",
       "      <td>5</td>\n",
       "    </tr>\n",
       "    <tr>\n",
       "      <th>fila2</th>\n",
       "      <td>10</td>\n",
       "      <td>5</td>\n",
       "      <td>5</td>\n",
       "      <td>9</td>\n",
       "    </tr>\n",
       "    <tr>\n",
       "      <th>fila3</th>\n",
       "      <td>7</td>\n",
       "      <td>6</td>\n",
       "      <td>6</td>\n",
       "      <td>10</td>\n",
       "    </tr>\n",
       "  </tbody>\n",
       "</table>\n",
       "</div>"
      ],
      "text/plain": [
       "        A  B  C   D\n",
       "fila1   7  4  7   5\n",
       "fila2  10  5  5   9\n",
       "fila3   7  6  6  10"
      ]
     },
     "metadata": {},
     "output_type": "display_data"
    },
    {
     "name": "stdout",
     "output_type": "stream",
     "text": [
      "Diferencia (máximo - mínimo) por fila:\n"
     ]
    },
    {
     "data": {
      "text/plain": [
       "fila1    3\n",
       "fila2    5\n",
       "fila3    4\n",
       "dtype: int64"
      ]
     },
     "metadata": {},
     "output_type": "display_data"
    }
   ],
   "source": [
    "# Your solution HERE !!!!\n",
    "\n",
    "df = pd.DataFrame(np.random.randint(0, 11, size=(3, 4)),\n",
    "                  index=[\"fila1\", \"fila2\", \"fila3\"],\n",
    "                  columns=[\"A\", \"B\", \"C\", \"D\"])\n",
    "display(df)\n",
    "diferencias = df.apply(lambda fila: fila.max() - fila.min(), axis=1)\n",
    "\n",
    "print(\"Diferencia (máximo - mínimo) por fila:\")\n",
    "display(diferencias)\n"
   ]
  },
  {
   "attachments": {},
   "cell_type": "markdown",
   "id": "1dc73e21-7283-4cd5-92e8-3a7e1e70fd02",
   "metadata": {
    "tags": []
   },
   "source": [
    "## 04 - 1pt\n",
    "- Crear un array de NumPy de dimensiones 8x5, con números enteros aleatorios en el rango [-100, 100]\n",
    "- Ejecutar en este orden\n",
    "\n",
    "  1. Reemplazar los valores de todos aquellos números múltiplos de 5 por 100\n",
    "  2. Reemplazar los valores de todos aquellos números múltiplos de 3 por Nan\n",
    "   \n",
    "  2. Averiguar cuantos elementos tienen Nan por fila\n",
    "  3. Reemplazar los valores de Nan por 0"
   ]
  },
  {
   "cell_type": "code",
   "execution_count": 32,
   "id": "2fd83be4-8626-4eaa-9ead-6f951d5ebbfb",
   "metadata": {},
   "outputs": [
    {
     "data": {
      "text/html": [
       "<div>\n",
       "<style scoped>\n",
       "    .dataframe tbody tr th:only-of-type {\n",
       "        vertical-align: middle;\n",
       "    }\n",
       "\n",
       "    .dataframe tbody tr th {\n",
       "        vertical-align: top;\n",
       "    }\n",
       "\n",
       "    .dataframe thead th {\n",
       "        text-align: right;\n",
       "    }\n",
       "</style>\n",
       "<table border=\"1\" class=\"dataframe\">\n",
       "  <thead>\n",
       "    <tr style=\"text-align: right;\">\n",
       "      <th></th>\n",
       "      <th>0</th>\n",
       "      <th>1</th>\n",
       "      <th>2</th>\n",
       "      <th>3</th>\n",
       "      <th>4</th>\n",
       "    </tr>\n",
       "  </thead>\n",
       "  <tbody>\n",
       "    <tr>\n",
       "      <th>0</th>\n",
       "      <td>-53</td>\n",
       "      <td>15</td>\n",
       "      <td>-64</td>\n",
       "      <td>89</td>\n",
       "      <td>-64</td>\n",
       "    </tr>\n",
       "    <tr>\n",
       "      <th>1</th>\n",
       "      <td>-26</td>\n",
       "      <td>13</td>\n",
       "      <td>-27</td>\n",
       "      <td>78</td>\n",
       "      <td>-86</td>\n",
       "    </tr>\n",
       "    <tr>\n",
       "      <th>2</th>\n",
       "      <td>-68</td>\n",
       "      <td>-33</td>\n",
       "      <td>-27</td>\n",
       "      <td>71</td>\n",
       "      <td>85</td>\n",
       "    </tr>\n",
       "    <tr>\n",
       "      <th>3</th>\n",
       "      <td>98</td>\n",
       "      <td>58</td>\n",
       "      <td>-25</td>\n",
       "      <td>80</td>\n",
       "      <td>-8</td>\n",
       "    </tr>\n",
       "    <tr>\n",
       "      <th>4</th>\n",
       "      <td>31</td>\n",
       "      <td>53</td>\n",
       "      <td>33</td>\n",
       "      <td>-10</td>\n",
       "      <td>0</td>\n",
       "    </tr>\n",
       "    <tr>\n",
       "      <th>5</th>\n",
       "      <td>-51</td>\n",
       "      <td>-50</td>\n",
       "      <td>58</td>\n",
       "      <td>-35</td>\n",
       "      <td>1</td>\n",
       "    </tr>\n",
       "    <tr>\n",
       "      <th>6</th>\n",
       "      <td>46</td>\n",
       "      <td>-19</td>\n",
       "      <td>-72</td>\n",
       "      <td>-66</td>\n",
       "      <td>-9</td>\n",
       "    </tr>\n",
       "    <tr>\n",
       "      <th>7</th>\n",
       "      <td>-76</td>\n",
       "      <td>77</td>\n",
       "      <td>-27</td>\n",
       "      <td>-51</td>\n",
       "      <td>73</td>\n",
       "    </tr>\n",
       "  </tbody>\n",
       "</table>\n",
       "</div>"
      ],
      "text/plain": [
       "    0   1   2   3   4\n",
       "0 -53  15 -64  89 -64\n",
       "1 -26  13 -27  78 -86\n",
       "2 -68 -33 -27  71  85\n",
       "3  98  58 -25  80  -8\n",
       "4  31  53  33 -10   0\n",
       "5 -51 -50  58 -35   1\n",
       "6  46 -19 -72 -66  -9\n",
       "7 -76  77 -27 -51  73"
      ]
     },
     "metadata": {},
     "output_type": "display_data"
    },
    {
     "data": {
      "text/html": [
       "<div>\n",
       "<style scoped>\n",
       "    .dataframe tbody tr th:only-of-type {\n",
       "        vertical-align: middle;\n",
       "    }\n",
       "\n",
       "    .dataframe tbody tr th {\n",
       "        vertical-align: top;\n",
       "    }\n",
       "\n",
       "    .dataframe thead th {\n",
       "        text-align: right;\n",
       "    }\n",
       "</style>\n",
       "<table border=\"1\" class=\"dataframe\">\n",
       "  <thead>\n",
       "    <tr style=\"text-align: right;\">\n",
       "      <th></th>\n",
       "      <th>0</th>\n",
       "      <th>1</th>\n",
       "      <th>2</th>\n",
       "      <th>3</th>\n",
       "      <th>4</th>\n",
       "    </tr>\n",
       "  </thead>\n",
       "  <tbody>\n",
       "    <tr>\n",
       "      <th>0</th>\n",
       "      <td>-53.0</td>\n",
       "      <td>100.0</td>\n",
       "      <td>-64.0</td>\n",
       "      <td>89.0</td>\n",
       "      <td>-64.0</td>\n",
       "    </tr>\n",
       "    <tr>\n",
       "      <th>1</th>\n",
       "      <td>-26.0</td>\n",
       "      <td>13.0</td>\n",
       "      <td>NaN</td>\n",
       "      <td>NaN</td>\n",
       "      <td>-86.0</td>\n",
       "    </tr>\n",
       "    <tr>\n",
       "      <th>2</th>\n",
       "      <td>-68.0</td>\n",
       "      <td>NaN</td>\n",
       "      <td>NaN</td>\n",
       "      <td>71.0</td>\n",
       "      <td>100.0</td>\n",
       "    </tr>\n",
       "    <tr>\n",
       "      <th>3</th>\n",
       "      <td>98.0</td>\n",
       "      <td>58.0</td>\n",
       "      <td>100.0</td>\n",
       "      <td>100.0</td>\n",
       "      <td>-8.0</td>\n",
       "    </tr>\n",
       "    <tr>\n",
       "      <th>4</th>\n",
       "      <td>31.0</td>\n",
       "      <td>53.0</td>\n",
       "      <td>NaN</td>\n",
       "      <td>100.0</td>\n",
       "      <td>100.0</td>\n",
       "    </tr>\n",
       "    <tr>\n",
       "      <th>5</th>\n",
       "      <td>NaN</td>\n",
       "      <td>100.0</td>\n",
       "      <td>58.0</td>\n",
       "      <td>100.0</td>\n",
       "      <td>1.0</td>\n",
       "    </tr>\n",
       "    <tr>\n",
       "      <th>6</th>\n",
       "      <td>46.0</td>\n",
       "      <td>-19.0</td>\n",
       "      <td>NaN</td>\n",
       "      <td>NaN</td>\n",
       "      <td>NaN</td>\n",
       "    </tr>\n",
       "    <tr>\n",
       "      <th>7</th>\n",
       "      <td>-76.0</td>\n",
       "      <td>77.0</td>\n",
       "      <td>NaN</td>\n",
       "      <td>NaN</td>\n",
       "      <td>73.0</td>\n",
       "    </tr>\n",
       "  </tbody>\n",
       "</table>\n",
       "</div>"
      ],
      "text/plain": [
       "      0      1      2      3      4\n",
       "0 -53.0  100.0  -64.0   89.0  -64.0\n",
       "1 -26.0   13.0    NaN    NaN  -86.0\n",
       "2 -68.0    NaN    NaN   71.0  100.0\n",
       "3  98.0   58.0  100.0  100.0   -8.0\n",
       "4  31.0   53.0    NaN  100.0  100.0\n",
       "5   NaN  100.0   58.0  100.0    1.0\n",
       "6  46.0  -19.0    NaN    NaN    NaN\n",
       "7 -76.0   77.0    NaN    NaN   73.0"
      ]
     },
     "metadata": {},
     "output_type": "display_data"
    },
    {
     "name": "stdout",
     "output_type": "stream",
     "text": [
      "0    0\n",
      "1    2\n",
      "2    2\n",
      "3    0\n",
      "4    1\n",
      "5    1\n",
      "6    3\n",
      "7    2\n",
      "dtype: int64\n"
     ]
    },
    {
     "data": {
      "text/html": [
       "<div>\n",
       "<style scoped>\n",
       "    .dataframe tbody tr th:only-of-type {\n",
       "        vertical-align: middle;\n",
       "    }\n",
       "\n",
       "    .dataframe tbody tr th {\n",
       "        vertical-align: top;\n",
       "    }\n",
       "\n",
       "    .dataframe thead th {\n",
       "        text-align: right;\n",
       "    }\n",
       "</style>\n",
       "<table border=\"1\" class=\"dataframe\">\n",
       "  <thead>\n",
       "    <tr style=\"text-align: right;\">\n",
       "      <th></th>\n",
       "      <th>0</th>\n",
       "      <th>1</th>\n",
       "      <th>2</th>\n",
       "      <th>3</th>\n",
       "      <th>4</th>\n",
       "    </tr>\n",
       "  </thead>\n",
       "  <tbody>\n",
       "    <tr>\n",
       "      <th>0</th>\n",
       "      <td>-53.0</td>\n",
       "      <td>100.0</td>\n",
       "      <td>-64.0</td>\n",
       "      <td>89.0</td>\n",
       "      <td>-64.0</td>\n",
       "    </tr>\n",
       "    <tr>\n",
       "      <th>1</th>\n",
       "      <td>-26.0</td>\n",
       "      <td>13.0</td>\n",
       "      <td>0.0</td>\n",
       "      <td>0.0</td>\n",
       "      <td>-86.0</td>\n",
       "    </tr>\n",
       "    <tr>\n",
       "      <th>2</th>\n",
       "      <td>-68.0</td>\n",
       "      <td>0.0</td>\n",
       "      <td>0.0</td>\n",
       "      <td>71.0</td>\n",
       "      <td>100.0</td>\n",
       "    </tr>\n",
       "    <tr>\n",
       "      <th>3</th>\n",
       "      <td>98.0</td>\n",
       "      <td>58.0</td>\n",
       "      <td>100.0</td>\n",
       "      <td>100.0</td>\n",
       "      <td>-8.0</td>\n",
       "    </tr>\n",
       "    <tr>\n",
       "      <th>4</th>\n",
       "      <td>31.0</td>\n",
       "      <td>53.0</td>\n",
       "      <td>0.0</td>\n",
       "      <td>100.0</td>\n",
       "      <td>100.0</td>\n",
       "    </tr>\n",
       "    <tr>\n",
       "      <th>5</th>\n",
       "      <td>0.0</td>\n",
       "      <td>100.0</td>\n",
       "      <td>58.0</td>\n",
       "      <td>100.0</td>\n",
       "      <td>1.0</td>\n",
       "    </tr>\n",
       "    <tr>\n",
       "      <th>6</th>\n",
       "      <td>46.0</td>\n",
       "      <td>-19.0</td>\n",
       "      <td>0.0</td>\n",
       "      <td>0.0</td>\n",
       "      <td>0.0</td>\n",
       "    </tr>\n",
       "    <tr>\n",
       "      <th>7</th>\n",
       "      <td>-76.0</td>\n",
       "      <td>77.0</td>\n",
       "      <td>0.0</td>\n",
       "      <td>0.0</td>\n",
       "      <td>73.0</td>\n",
       "    </tr>\n",
       "  </tbody>\n",
       "</table>\n",
       "</div>"
      ],
      "text/plain": [
       "      0      1      2      3      4\n",
       "0 -53.0  100.0  -64.0   89.0  -64.0\n",
       "1 -26.0   13.0    0.0    0.0  -86.0\n",
       "2 -68.0    0.0    0.0   71.0  100.0\n",
       "3  98.0   58.0  100.0  100.0   -8.0\n",
       "4  31.0   53.0    0.0  100.0  100.0\n",
       "5   0.0  100.0   58.0  100.0    1.0\n",
       "6  46.0  -19.0    0.0    0.0    0.0\n",
       "7 -76.0   77.0    0.0    0.0   73.0"
      ]
     },
     "metadata": {},
     "output_type": "display_data"
    }
   ],
   "source": [
    "# Your solution HERE !!!!\n",
    "df = pd.DataFrame(np.random.randint(-100, 100, size=(8, 5)))\n",
    "display(df)\n",
    "df[df % 5 == 0] = 100\n",
    "df[df % 3 == 0] = np.nan\n",
    "display(df)\n",
    "print(df.isnull().sum(axis=1))\n",
    "df.fillna(0, inplace=True)\n",
    "display(df)"
   ]
  },
  {
   "attachments": {},
   "cell_type": "markdown",
   "id": "45fe9b96-168d-4bdc-a472-fb41c9031c0d",
   "metadata": {
    "tags": []
   },
   "source": [
    "## 05 - 1pt\n",
    "- Crear una función que reciba una lista de strings y devuelva una serie de pandas, y convierta el primer y último carácter de la palabra de cada elemento de la serie a mayúsculas"
   ]
  },
  {
   "cell_type": "code",
   "execution_count": 37,
   "id": "19fab47f-5fbe-4baa-93af-fc6776d748d1",
   "metadata": {},
   "outputs": [
    {
     "data": {
      "text/plain": [
       "0        PythoN\n",
       "1           PhP\n",
       "2          JavA\n",
       "3    JavascripT\n",
       "4           C++\n",
       "5           SqL\n",
       "dtype: object"
      ]
     },
     "metadata": {},
     "output_type": "display_data"
    }
   ],
   "source": [
    "languages = ['python', 'php', 'java', 'javascript', 'c++', 'sql']\n",
    "expected_output = pd.Series(['PythoN', 'PhP', 'JavA', 'JavascripT', 'C++', 'SqL'])\n",
    "output = first_last_uppercase(languages)  # This calls your function first_last_uppercase\n",
    "display(output)\n",
    "assert(expected_output.equals(output))  # This will fail if the two lists are different"
   ]
  },
  {
   "cell_type": "code",
   "execution_count": 36,
   "id": "b6b5696b-71fd-4dc4-8536-18eb2d69a8fa",
   "metadata": {},
   "outputs": [],
   "source": [
    "# Your solution HERE !!!!\n",
    "def first_last_uppercase(languages):\n",
    "    return pd.Series([\n",
    "        word[0].upper() + word[1:-1] + word[-1].upper() if len(word) > 1 else word.upper()\n",
    "        for word in languages\n",
    "    ])\n"
   ]
  },
  {
   "attachments": {},
   "cell_type": "markdown",
   "id": "d037ca2d-d40e-4fe2-8f9a-8088e927a911",
   "metadata": {
    "tags": []
   },
   "source": [
    "## 07 - 1pt\n",
    "- La serie de Fibonacci es una sucesión de números, en la cual cada número es la suma de los dos anteriores. Los dos primeros son siempre 0 y 1.\n",
    "  - $F_0 = 0$\n",
    "  - $F_1 = 1$\n",
    "  - $F_n = F_{n-1} + F_{n-2}$\n",
    "- Crear un generador infinito de números de Fibonacci."
   ]
  },
  {
   "cell_type": "code",
   "execution_count": 60,
   "id": "4020e4a6-263f-4d35-a01f-c56d4b6c1336",
   "metadata": {},
   "outputs": [],
   "source": [
    "fibo = [0,1,1,2,3,5,8,13,21,34,55,89,144,233,377,610,987,1597]\n",
    "g = fibonacci_generator()  # This calls tour function fibonacci_generator\n",
    "expected_output = [next(g) for n in range(len(fibo))]\n",
    "assert(fibo == expected_output)  # This will fail if the output is not as expected"
   ]
  },
  {
   "cell_type": "code",
   "execution_count": 66,
   "id": "8092c7c1-c1c8-4492-b08c-489f8767ed73",
   "metadata": {},
   "outputs": [
    {
     "name": "stdout",
     "output_type": "stream",
     "text": [
      "Generados:        [0, 1, 1, 2, 3, 5, 8, 13, 21, 34, 55, 89, 144, 233, 377, 610, 987, 1597]\n",
      "Esperados:        [0, 1, 1, 2, 3, 5, 8, 13, 21, 34, 55, 89, 144, 233, 377, 610, 987, 1597]\n",
      "¿Coinciden?:      True\n"
     ]
    }
   ],
   "source": [
    "# Your solution HERE !!!!\n",
    "def fibonacci_generator():\n",
    "    a, b = 0, 1\n",
    "    while True:\n",
    "        yield a\n",
    "        a, b = b, a + b\n",
    "\n",
    "fibo = [0, 1, 1, 2, 3, 5, 8, 13, 21, 34, 55, 89, 144, 233, 377, 610, 987, 1597]\n",
    "g = fibonacci_generator()\n",
    "expected_output = [next(g) for _ in range(len(fibo))]\n",
    "\n",
    "# Imprimimos los resultados\n",
    "print(\"Generados:       \", expected_output)\n",
    "print(\"Esperados:       \", fibo)\n",
    "print(\"¿Coinciden?:     \", expected_output == fibo)\n",
    "\n",
    "# Validación\n",
    "assert(fibo == expected_output)  # Esto pasa si están correctos\n",
    "\n"
   ]
  },
  {
   "attachments": {},
   "cell_type": "markdown",
   "id": "202c6c38-649d-4991-b118-12e6364d8ab0",
   "metadata": {},
   "source": [
    "## 07 - 4pt\n",
    "- Crear una lista de meses de Enero a Diciembre (eje X)\n",
    "- Generar datos aleatorios para el eje Y, hacerlo 3 veces distintas (Y0, Y1 e Y2)\n",
    "- Representar las 3 secuencias de datos aleatorios en una sola figura usando matplotlib\n",
    "- Añadir una leyenda para poder identificar cada secuencia\n",
    "- Nombrar las 3 secuencias de la siguiente manera (\"Facebook\", \"Twitter\", \"Instagram\")\n",
    "- Añadir un título y nombres a los dos ejes\n",
    "- Añadir una anotación (texto y flecha) a uno de los gráficos"
   ]
  },
  {
   "cell_type": "code",
   "execution_count": 65,
   "id": "b0dfefef-66a5-4804-af34-810fcaf25b5e",
   "metadata": {},
   "outputs": [
    {
     "data": {
      "image/png": "[encoded data removed]",
      "text/plain": [
       "<Figure size 1200x600 with 1 Axes>"
      ]
     },
     "metadata": {},
     "output_type": "display_data"
    }
   ],
   "source": [
    "# Your solution HERE !!!!\n",
    "import numpy as np\n",
    "import matplotlib.pyplot as pylot\n",
    "\n",
    "\n",
    "meses = ['Enero', 'Febrero', 'Marzo', 'Abril', 'Mayo', 'Junio',\n",
    "         'Julio', 'Agosto', 'Septiembre', 'Octubre', 'Noviembre', 'Diciembre']\n",
    "\n",
    "np.random.seed(1)  \n",
    "facebook = np.random.randint(50, 150, size=12)\n",
    "twitter = np.random.randint(50, 150, size=12)\n",
    "instagram = np.random.randint(50, 150, size=12)\n",
    "\n",
    "\n",
    "pylot.figure(figsize=(12, 6))\n",
    "pylot.plot(meses, facebook, marker='o', label='Facebook')\n",
    "pylot.plot(meses, twitter, marker='s', label='Twitter')\n",
    "pylot.plot(meses, instagram, marker='^', label='Instagram')\n",
    "\n",
    "\n",
    "pylot.legend()\n",
    "\n",
    "# Títulos y etiquetas\n",
    "pylot.title('Actividad mensual en redes sociales')\n",
    "pylot.xlabel('Meses del año')\n",
    "pylot.ylabel('Interacciones (miles)')\n",
    "\n",
    "# Añadir anotación (por ejemplo, punto más alto de Instagram)\n",
    "max_value = max(instagram)\n",
    "max_index = instagram.tolist().index(max_value)\n",
    "pylot.annotate(\n",
    "    f'Máximo Instagram: {max_value}',\n",
    "    xy=(meses[max_index], max_value),\n",
    "    xytext=(meses[max_index], max_value + 10),\n",
    "    arrowprops=dict(facecolor='red', arrowstyle='->'),\n",
    "    fontsize=10\n",
    ")\n",
    "\n",
    "# Mostrar gráfico\n",
    "pylot.grid(True)\n",
    "pylot.tight_layout()\n",
    "pylot.show()\n"
   ]
  },
  {
   "cell_type": "code",
   "execution_count": null,
   "id": "5d7cd241-5759-42cb-85c3-3381f6e978c9",
   "metadata": {},
   "outputs": [],
   "source": []
  }
 ],
 "metadata": {
  "kernelspec": {
   "display_name": "Python 3 (ipykernel)",
   "language": "python",
   "name": "python3"
  },
  "language_info": {
   "codemirror_mode": {
    "name": "ipython",
    "version": 3
   },
   "file_extension": ".py",
   "mimetype": "text/x-python",
   "name": "python",
   "nbconvert_exporter": "python",
   "pygments_lexer": "ipython3",
   "version": "3.13.5"
  }
 },
 "nbformat": 4,
 "nbformat_minor": 5
}
